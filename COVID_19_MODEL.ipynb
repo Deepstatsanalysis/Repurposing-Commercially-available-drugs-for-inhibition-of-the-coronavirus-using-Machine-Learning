{
  "nbformat": 4,
  "nbformat_minor": 0,
  "metadata": {
    "colab": {
      "name": "COVID-19_MODEL.ipynb",
      "provenance": [],
      "authorship_tag": "ABX9TyNwh5Qt4YWJpuwa8Z+fvXiV",
      "include_colab_link": true
    },
    "kernelspec": {
      "name": "python3",
      "display_name": "Python 3"
    },
    "accelerator": "GPU"
  },
  "cells": [
    {
      "cell_type": "markdown",
      "metadata": {
        "id": "view-in-github",
        "colab_type": "text"
      },
      "source": [
        "<a href=\"https://colab.research.google.com/github/VIGNESHinZONE/Repurposing-Commercially-available-drugs-for-inhibition-of-the-coronavirus-using-Machine-Learning/blob/master/COVID_19_MODEL.ipynb\" target=\"_parent\"><img src=\"https://colab.research.google.com/assets/colab-badge.svg\" alt=\"Open In Colab\"/></a>"
      ]
    },
    {
      "cell_type": "code",
      "metadata": {
        "id": "EVHtpQ19EmPd",
        "colab_type": "code",
        "colab": {
          "base_uri": "https://localhost:8080/",
          "height": 34
        },
        "outputId": "75834315-56d3-4d1d-b43e-b0a95c68a4ab"
      },
      "source": [
        "from google.colab import drive\n",
        "drive.mount('/content/gdrive')"
      ],
      "execution_count": 34,
      "outputs": [
        {
          "output_type": "stream",
          "text": [
            "Drive already mounted at /content/gdrive; to attempt to forcibly remount, call drive.mount(\"/content/gdrive\", force_remount=True).\n"
          ],
          "name": "stdout"
        }
      ]
    },
    {
      "cell_type": "code",
      "metadata": {
        "id": "QK6eUMwdEtVC",
        "colab_type": "code",
        "colab": {
          "base_uri": "https://localhost:8080/",
          "height": 51
        },
        "outputId": "515a0258-4efb-4702-efbe-b16ef32252dd"
      },
      "source": [
        "cd gdrive/My Drive/SOVID - 19\n"
      ],
      "execution_count": 35,
      "outputs": [
        {
          "output_type": "stream",
          "text": [
            "[Errno 2] No such file or directory: 'gdrive/My Drive/SOVID - 19'\n",
            "/content/gdrive/.shortcut-targets-by-id/1FSDwqpFkKZ8yDznalDgKTEbZSsiUc4Wy/COVID - 19\n"
          ],
          "name": "stdout"
        }
      ]
    },
    {
      "cell_type": "code",
      "metadata": {
        "id": "Kn-Itko9E2S3",
        "colab_type": "code",
        "colab": {
          "base_uri": "https://localhost:8080/",
          "height": 51
        },
        "outputId": "955d1fbc-2367-4761-9cf9-13e875dd061d"
      },
      "source": [
        "#General purpose libraries\n",
        "import glob\n",
        "import pandas as pd\n",
        "import numpy as np\n",
        "import random\n",
        "import matplotlib.pyplot as plt\n",
        "\n",
        "#Torch Libraries for ANN\n",
        "import torch\n",
        "import torch.nn as nn\n",
        "import torch.nn.functional as F\n",
        "import torch.optim as optim\n",
        "from torch.utils.tensorboard import SummaryWriter\n",
        "\n",
        "#Sklearn Libraries for Preprocessing\n",
        "from sklearn import metrics\n",
        "from sklearn.utils import shuffle\n",
        "from sklearn.decomposition import PCA\n",
        "from sklearn.decomposition import IncrementalPCA\n",
        "\n",
        "%load_ext tensorboard"
      ],
      "execution_count": 36,
      "outputs": [
        {
          "output_type": "stream",
          "text": [
            "The tensorboard extension is already loaded. To reload it, use:\n",
            "  %reload_ext tensorboard\n"
          ],
          "name": "stdout"
        }
      ]
    },
    {
      "cell_type": "code",
      "metadata": {
        "id": "G7PDjFpOFAEA",
        "colab_type": "code",
        "colab": {}
      },
      "source": [
        "seed= 12321\n",
        "random.seed(seed)  \n",
        "np.random.seed(0)\n",
        "torch.manual_seed(seed)\n",
        "torch.cuda.manual_seed(seed)\n",
        "torch.manual_seed(seed)\n",
        "torch.backends.cudnn.benchmark = False\n",
        "torch.backends.cudnn.deterministic = True"
      ],
      "execution_count": 0,
      "outputs": []
    },
    {
      "cell_type": "code",
      "metadata": {
        "id": "cyZL8oJlFCCD",
        "colab_type": "code",
        "colab": {
          "base_uri": "https://localhost:8080/",
          "height": 253
        },
        "outputId": "8e3b1604-73f6-4228-bb0a-9c8250f14d05"
      },
      "source": [
        "data_train = pd.read_csv('Training_Data_SamR_700.csv').drop(['Unnamed: 0'],axis=1)\n",
        "data_test = pd.read_csv('Testing_data.csv').drop(['Unnamed: 0'],axis=1)\n",
        "data_active_test = data_test[data_test['Outcome']==1]\n",
        "df_drug = pd.read_csv('Drugs.csv')\n",
        "\n",
        "data_train.head()"
      ],
      "execution_count": 38,
      "outputs": [
        {
          "output_type": "execute_result",
          "data": {
            "text/html": [
              "<div>\n",
              "<style scoped>\n",
              "    .dataframe tbody tr th:only-of-type {\n",
              "        vertical-align: middle;\n",
              "    }\n",
              "\n",
              "    .dataframe tbody tr th {\n",
              "        vertical-align: top;\n",
              "    }\n",
              "\n",
              "    .dataframe thead th {\n",
              "        text-align: right;\n",
              "    }\n",
              "</style>\n",
              "<table border=\"1\" class=\"dataframe\">\n",
              "  <thead>\n",
              "    <tr style=\"text-align: right;\">\n",
              "      <th></th>\n",
              "      <th>NEG_01_NEG</th>\n",
              "      <th>NEG_02_NEG</th>\n",
              "      <th>NEG_03_NEG</th>\n",
              "      <th>NEG_04_NEG</th>\n",
              "      <th>NEG_05_NEG</th>\n",
              "      <th>NEG_06_NEG</th>\n",
              "      <th>NEG_07_NEG</th>\n",
              "      <th>NEG_01_POS</th>\n",
              "      <th>NEG_02_POS</th>\n",
              "      <th>NEG_03_POS</th>\n",
              "      <th>NEG_04_POS</th>\n",
              "      <th>NEG_05_POS</th>\n",
              "      <th>NEG_06_POS</th>\n",
              "      <th>NEG_07_POS</th>\n",
              "      <th>NEG_01_HBD</th>\n",
              "      <th>NEG_02_HBD</th>\n",
              "      <th>NEG_03_HBD</th>\n",
              "      <th>NEG_04_HBD</th>\n",
              "      <th>NEG_05_HBD</th>\n",
              "      <th>NEG_06_HBD</th>\n",
              "      <th>NEG_07_HBD</th>\n",
              "      <th>NEG_01_HBA</th>\n",
              "      <th>NEG_02_HBA</th>\n",
              "      <th>NEG_03_HBA</th>\n",
              "      <th>NEG_04_HBA</th>\n",
              "      <th>NEG_05_HBA</th>\n",
              "      <th>NEG_06_HBA</th>\n",
              "      <th>NEG_07_HBA</th>\n",
              "      <th>NEG_01_ARC</th>\n",
              "      <th>NEG_02_ARC</th>\n",
              "      <th>NEG_03_ARC</th>\n",
              "      <th>NEG_04_ARC</th>\n",
              "      <th>NEG_05_ARC</th>\n",
              "      <th>NEG_06_ARC</th>\n",
              "      <th>NEG_07_ARC</th>\n",
              "      <th>NEG_01_HYP</th>\n",
              "      <th>NEG_02_HYP</th>\n",
              "      <th>NEG_03_HYP</th>\n",
              "      <th>NEG_04_HYP</th>\n",
              "      <th>NEG_05_HYP</th>\n",
              "      <th>...</th>\n",
              "      <th>HYP_01_HYP</th>\n",
              "      <th>HYP_02_HYP</th>\n",
              "      <th>HYP_03_HYP</th>\n",
              "      <th>HYP_04_HYP</th>\n",
              "      <th>HYP_05_HYP</th>\n",
              "      <th>HYP_06_HYP</th>\n",
              "      <th>HYP_07_HYP</th>\n",
              "      <th>WBN_GC_L_0.25</th>\n",
              "      <th>WBN_GC_H_0.25</th>\n",
              "      <th>WBN_GC_L_0.50</th>\n",
              "      <th>WBN_GC_H_0.50</th>\n",
              "      <th>WBN_GC_L_0.75</th>\n",
              "      <th>WBN_GC_H_0.75</th>\n",
              "      <th>WBN_GC_L_1.00</th>\n",
              "      <th>WBN_GC_H_1.00</th>\n",
              "      <th>WBN_EN_L_0.25</th>\n",
              "      <th>WBN_EN_H_0.25</th>\n",
              "      <th>WBN_EN_L_0.50</th>\n",
              "      <th>WBN_EN_H_0.50</th>\n",
              "      <th>WBN_EN_L_0.75</th>\n",
              "      <th>WBN_EN_H_0.75</th>\n",
              "      <th>WBN_EN_L_1.00</th>\n",
              "      <th>WBN_EN_H_1.00</th>\n",
              "      <th>WBN_LP_L_0.25</th>\n",
              "      <th>WBN_LP_H_0.25</th>\n",
              "      <th>WBN_LP_L_0.50</th>\n",
              "      <th>WBN_LP_H_0.50</th>\n",
              "      <th>WBN_LP_L_0.75</th>\n",
              "      <th>WBN_LP_H_0.75</th>\n",
              "      <th>WBN_LP_L_1.00</th>\n",
              "      <th>WBN_LP_H_1.00</th>\n",
              "      <th>XLogP</th>\n",
              "      <th>PSA</th>\n",
              "      <th>NumRot</th>\n",
              "      <th>NumHBA</th>\n",
              "      <th>NumHBD</th>\n",
              "      <th>MW</th>\n",
              "      <th>BBB</th>\n",
              "      <th>BadGroup</th>\n",
              "      <th>Outcome</th>\n",
              "    </tr>\n",
              "  </thead>\n",
              "  <tbody>\n",
              "    <tr>\n",
              "      <th>0</th>\n",
              "      <td>0</td>\n",
              "      <td>0</td>\n",
              "      <td>0</td>\n",
              "      <td>0</td>\n",
              "      <td>0</td>\n",
              "      <td>0</td>\n",
              "      <td>0</td>\n",
              "      <td>0</td>\n",
              "      <td>0</td>\n",
              "      <td>0</td>\n",
              "      <td>0</td>\n",
              "      <td>0</td>\n",
              "      <td>0</td>\n",
              "      <td>0</td>\n",
              "      <td>0</td>\n",
              "      <td>0</td>\n",
              "      <td>0</td>\n",
              "      <td>0</td>\n",
              "      <td>0</td>\n",
              "      <td>0</td>\n",
              "      <td>0</td>\n",
              "      <td>0</td>\n",
              "      <td>0</td>\n",
              "      <td>0</td>\n",
              "      <td>0</td>\n",
              "      <td>0</td>\n",
              "      <td>0</td>\n",
              "      <td>0</td>\n",
              "      <td>0</td>\n",
              "      <td>0</td>\n",
              "      <td>0</td>\n",
              "      <td>0</td>\n",
              "      <td>0</td>\n",
              "      <td>0</td>\n",
              "      <td>0</td>\n",
              "      <td>0</td>\n",
              "      <td>0</td>\n",
              "      <td>0</td>\n",
              "      <td>0</td>\n",
              "      <td>0</td>\n",
              "      <td>...</td>\n",
              "      <td>0</td>\n",
              "      <td>0</td>\n",
              "      <td>0</td>\n",
              "      <td>0</td>\n",
              "      <td>0</td>\n",
              "      <td>0</td>\n",
              "      <td>0</td>\n",
              "      <td>-2.21896</td>\n",
              "      <td>1.89332</td>\n",
              "      <td>-2.33560</td>\n",
              "      <td>2.37617</td>\n",
              "      <td>-2.81410</td>\n",
              "      <td>3.18823</td>\n",
              "      <td>-3.64319</td>\n",
              "      <td>4.07620</td>\n",
              "      <td>-0.825457</td>\n",
              "      <td>1.36905</td>\n",
              "      <td>-1.69757</td>\n",
              "      <td>2.19638</td>\n",
              "      <td>-2.58817</td>\n",
              "      <td>3.09319</td>\n",
              "      <td>-3.48695</td>\n",
              "      <td>4.01060</td>\n",
              "      <td>-1.108000</td>\n",
              "      <td>1.15249</td>\n",
              "      <td>-1.84816</td>\n",
              "      <td>2.05047</td>\n",
              "      <td>-2.70698</td>\n",
              "      <td>2.96847</td>\n",
              "      <td>-3.59439</td>\n",
              "      <td>3.89453</td>\n",
              "      <td>1.111</td>\n",
              "      <td>90.29</td>\n",
              "      <td>9</td>\n",
              "      <td>5</td>\n",
              "      <td>1</td>\n",
              "      <td>369.421</td>\n",
              "      <td>0</td>\n",
              "      <td>1</td>\n",
              "      <td>0.0</td>\n",
              "    </tr>\n",
              "    <tr>\n",
              "      <th>1</th>\n",
              "      <td>0</td>\n",
              "      <td>0</td>\n",
              "      <td>0</td>\n",
              "      <td>0</td>\n",
              "      <td>0</td>\n",
              "      <td>0</td>\n",
              "      <td>0</td>\n",
              "      <td>0</td>\n",
              "      <td>0</td>\n",
              "      <td>0</td>\n",
              "      <td>0</td>\n",
              "      <td>0</td>\n",
              "      <td>0</td>\n",
              "      <td>0</td>\n",
              "      <td>0</td>\n",
              "      <td>0</td>\n",
              "      <td>0</td>\n",
              "      <td>0</td>\n",
              "      <td>0</td>\n",
              "      <td>0</td>\n",
              "      <td>0</td>\n",
              "      <td>0</td>\n",
              "      <td>0</td>\n",
              "      <td>0</td>\n",
              "      <td>0</td>\n",
              "      <td>0</td>\n",
              "      <td>0</td>\n",
              "      <td>0</td>\n",
              "      <td>0</td>\n",
              "      <td>0</td>\n",
              "      <td>0</td>\n",
              "      <td>0</td>\n",
              "      <td>0</td>\n",
              "      <td>0</td>\n",
              "      <td>0</td>\n",
              "      <td>0</td>\n",
              "      <td>0</td>\n",
              "      <td>0</td>\n",
              "      <td>0</td>\n",
              "      <td>0</td>\n",
              "      <td>...</td>\n",
              "      <td>0</td>\n",
              "      <td>0</td>\n",
              "      <td>0</td>\n",
              "      <td>0</td>\n",
              "      <td>0</td>\n",
              "      <td>0</td>\n",
              "      <td>0</td>\n",
              "      <td>-2.05861</td>\n",
              "      <td>2.95213</td>\n",
              "      <td>-2.30022</td>\n",
              "      <td>3.16579</td>\n",
              "      <td>-2.79125</td>\n",
              "      <td>3.49171</td>\n",
              "      <td>-3.46407</td>\n",
              "      <td>4.01080</td>\n",
              "      <td>-0.774518</td>\n",
              "      <td>2.40204</td>\n",
              "      <td>-1.56260</td>\n",
              "      <td>2.67865</td>\n",
              "      <td>-2.35827</td>\n",
              "      <td>3.27843</td>\n",
              "      <td>-3.16100</td>\n",
              "      <td>4.16512</td>\n",
              "      <td>-1.080980</td>\n",
              "      <td>1.07652</td>\n",
              "      <td>-1.91118</td>\n",
              "      <td>1.92376</td>\n",
              "      <td>-2.75759</td>\n",
              "      <td>2.80998</td>\n",
              "      <td>-3.61043</td>\n",
              "      <td>3.71094</td>\n",
              "      <td>3.728</td>\n",
              "      <td>118.91</td>\n",
              "      <td>8</td>\n",
              "      <td>6</td>\n",
              "      <td>2</td>\n",
              "      <td>455.414</td>\n",
              "      <td>0</td>\n",
              "      <td>0</td>\n",
              "      <td>1.0</td>\n",
              "    </tr>\n",
              "    <tr>\n",
              "      <th>2</th>\n",
              "      <td>0</td>\n",
              "      <td>0</td>\n",
              "      <td>0</td>\n",
              "      <td>0</td>\n",
              "      <td>0</td>\n",
              "      <td>0</td>\n",
              "      <td>0</td>\n",
              "      <td>0</td>\n",
              "      <td>0</td>\n",
              "      <td>0</td>\n",
              "      <td>0</td>\n",
              "      <td>0</td>\n",
              "      <td>0</td>\n",
              "      <td>0</td>\n",
              "      <td>0</td>\n",
              "      <td>0</td>\n",
              "      <td>0</td>\n",
              "      <td>0</td>\n",
              "      <td>0</td>\n",
              "      <td>0</td>\n",
              "      <td>0</td>\n",
              "      <td>0</td>\n",
              "      <td>0</td>\n",
              "      <td>0</td>\n",
              "      <td>0</td>\n",
              "      <td>0</td>\n",
              "      <td>0</td>\n",
              "      <td>0</td>\n",
              "      <td>0</td>\n",
              "      <td>0</td>\n",
              "      <td>0</td>\n",
              "      <td>0</td>\n",
              "      <td>0</td>\n",
              "      <td>0</td>\n",
              "      <td>0</td>\n",
              "      <td>0</td>\n",
              "      <td>0</td>\n",
              "      <td>0</td>\n",
              "      <td>0</td>\n",
              "      <td>0</td>\n",
              "      <td>...</td>\n",
              "      <td>0</td>\n",
              "      <td>0</td>\n",
              "      <td>0</td>\n",
              "      <td>0</td>\n",
              "      <td>0</td>\n",
              "      <td>0</td>\n",
              "      <td>0</td>\n",
              "      <td>-1.79896</td>\n",
              "      <td>1.23804</td>\n",
              "      <td>-1.94987</td>\n",
              "      <td>1.97407</td>\n",
              "      <td>-2.47040</td>\n",
              "      <td>2.79017</td>\n",
              "      <td>-3.16799</td>\n",
              "      <td>3.63023</td>\n",
              "      <td>-0.775963</td>\n",
              "      <td>1.24417</td>\n",
              "      <td>-1.55582</td>\n",
              "      <td>1.97668</td>\n",
              "      <td>-2.33738</td>\n",
              "      <td>2.80082</td>\n",
              "      <td>-3.11984</td>\n",
              "      <td>3.64791</td>\n",
              "      <td>-0.806244</td>\n",
              "      <td>1.15738</td>\n",
              "      <td>-1.45299</td>\n",
              "      <td>2.00033</td>\n",
              "      <td>-2.15199</td>\n",
              "      <td>2.85873</td>\n",
              "      <td>-2.87913</td>\n",
              "      <td>3.72070</td>\n",
              "      <td>3.332</td>\n",
              "      <td>42.43</td>\n",
              "      <td>3</td>\n",
              "      <td>3</td>\n",
              "      <td>0</td>\n",
              "      <td>269.324</td>\n",
              "      <td>1</td>\n",
              "      <td>0</td>\n",
              "      <td>1.0</td>\n",
              "    </tr>\n",
              "    <tr>\n",
              "      <th>3</th>\n",
              "      <td>0</td>\n",
              "      <td>0</td>\n",
              "      <td>0</td>\n",
              "      <td>0</td>\n",
              "      <td>0</td>\n",
              "      <td>0</td>\n",
              "      <td>0</td>\n",
              "      <td>0</td>\n",
              "      <td>0</td>\n",
              "      <td>0</td>\n",
              "      <td>0</td>\n",
              "      <td>0</td>\n",
              "      <td>0</td>\n",
              "      <td>0</td>\n",
              "      <td>0</td>\n",
              "      <td>0</td>\n",
              "      <td>0</td>\n",
              "      <td>0</td>\n",
              "      <td>0</td>\n",
              "      <td>0</td>\n",
              "      <td>0</td>\n",
              "      <td>0</td>\n",
              "      <td>0</td>\n",
              "      <td>0</td>\n",
              "      <td>0</td>\n",
              "      <td>0</td>\n",
              "      <td>0</td>\n",
              "      <td>0</td>\n",
              "      <td>0</td>\n",
              "      <td>0</td>\n",
              "      <td>0</td>\n",
              "      <td>0</td>\n",
              "      <td>0</td>\n",
              "      <td>0</td>\n",
              "      <td>0</td>\n",
              "      <td>0</td>\n",
              "      <td>0</td>\n",
              "      <td>0</td>\n",
              "      <td>0</td>\n",
              "      <td>0</td>\n",
              "      <td>...</td>\n",
              "      <td>0</td>\n",
              "      <td>0</td>\n",
              "      <td>0</td>\n",
              "      <td>0</td>\n",
              "      <td>0</td>\n",
              "      <td>0</td>\n",
              "      <td>0</td>\n",
              "      <td>-1.53969</td>\n",
              "      <td>1.34274</td>\n",
              "      <td>-1.97551</td>\n",
              "      <td>2.07075</td>\n",
              "      <td>-2.75206</td>\n",
              "      <td>2.89920</td>\n",
              "      <td>-3.56623</td>\n",
              "      <td>3.75631</td>\n",
              "      <td>-0.781611</td>\n",
              "      <td>1.36371</td>\n",
              "      <td>-1.58847</td>\n",
              "      <td>2.14600</td>\n",
              "      <td>-2.41639</td>\n",
              "      <td>2.98943</td>\n",
              "      <td>-3.25765</td>\n",
              "      <td>3.85439</td>\n",
              "      <td>-1.035250</td>\n",
              "      <td>1.10898</td>\n",
              "      <td>-1.82384</td>\n",
              "      <td>1.92912</td>\n",
              "      <td>-2.66065</td>\n",
              "      <td>2.78327</td>\n",
              "      <td>-3.51047</td>\n",
              "      <td>3.65414</td>\n",
              "      <td>3.062</td>\n",
              "      <td>53.75</td>\n",
              "      <td>3</td>\n",
              "      <td>2</td>\n",
              "      <td>0</td>\n",
              "      <td>221.239</td>\n",
              "      <td>1</td>\n",
              "      <td>0</td>\n",
              "      <td>0.0</td>\n",
              "    </tr>\n",
              "    <tr>\n",
              "      <th>4</th>\n",
              "      <td>0</td>\n",
              "      <td>0</td>\n",
              "      <td>0</td>\n",
              "      <td>0</td>\n",
              "      <td>0</td>\n",
              "      <td>0</td>\n",
              "      <td>0</td>\n",
              "      <td>0</td>\n",
              "      <td>0</td>\n",
              "      <td>0</td>\n",
              "      <td>0</td>\n",
              "      <td>0</td>\n",
              "      <td>0</td>\n",
              "      <td>0</td>\n",
              "      <td>0</td>\n",
              "      <td>0</td>\n",
              "      <td>0</td>\n",
              "      <td>0</td>\n",
              "      <td>0</td>\n",
              "      <td>0</td>\n",
              "      <td>0</td>\n",
              "      <td>0</td>\n",
              "      <td>0</td>\n",
              "      <td>0</td>\n",
              "      <td>0</td>\n",
              "      <td>0</td>\n",
              "      <td>0</td>\n",
              "      <td>0</td>\n",
              "      <td>0</td>\n",
              "      <td>0</td>\n",
              "      <td>0</td>\n",
              "      <td>0</td>\n",
              "      <td>0</td>\n",
              "      <td>0</td>\n",
              "      <td>0</td>\n",
              "      <td>0</td>\n",
              "      <td>0</td>\n",
              "      <td>0</td>\n",
              "      <td>0</td>\n",
              "      <td>0</td>\n",
              "      <td>...</td>\n",
              "      <td>1</td>\n",
              "      <td>0</td>\n",
              "      <td>0</td>\n",
              "      <td>0</td>\n",
              "      <td>0</td>\n",
              "      <td>0</td>\n",
              "      <td>0</td>\n",
              "      <td>-1.04825</td>\n",
              "      <td>1.35043</td>\n",
              "      <td>-1.62054</td>\n",
              "      <td>1.89552</td>\n",
              "      <td>-2.39049</td>\n",
              "      <td>2.55731</td>\n",
              "      <td>-3.17911</td>\n",
              "      <td>3.33711</td>\n",
              "      <td>-0.786468</td>\n",
              "      <td>1.30484</td>\n",
              "      <td>-1.57620</td>\n",
              "      <td>1.91242</td>\n",
              "      <td>-2.36748</td>\n",
              "      <td>2.62653</td>\n",
              "      <td>-3.15964</td>\n",
              "      <td>3.40169</td>\n",
              "      <td>-0.815247</td>\n",
              "      <td>1.11659</td>\n",
              "      <td>-1.40252</td>\n",
              "      <td>1.92860</td>\n",
              "      <td>-2.14519</td>\n",
              "      <td>2.74539</td>\n",
              "      <td>-2.92380</td>\n",
              "      <td>3.56424</td>\n",
              "      <td>6.358</td>\n",
              "      <td>50.41</td>\n",
              "      <td>4</td>\n",
              "      <td>3</td>\n",
              "      <td>2</td>\n",
              "      <td>313.470</td>\n",
              "      <td>1</td>\n",
              "      <td>4</td>\n",
              "      <td>1.0</td>\n",
              "    </tr>\n",
              "  </tbody>\n",
              "</table>\n",
              "<p>5 rows × 180 columns</p>\n",
              "</div>"
            ],
            "text/plain": [
              "   NEG_01_NEG  NEG_02_NEG  NEG_03_NEG  ...  BBB  BadGroup  Outcome\n",
              "0           0           0           0  ...    0         1      0.0\n",
              "1           0           0           0  ...    0         0      1.0\n",
              "2           0           0           0  ...    1         0      1.0\n",
              "3           0           0           0  ...    1         0      0.0\n",
              "4           0           0           0  ...    1         4      1.0\n",
              "\n",
              "[5 rows x 180 columns]"
            ]
          },
          "metadata": {
            "tags": []
          },
          "execution_count": 38
        }
      ]
    },
    {
      "cell_type": "code",
      "metadata": {
        "id": "cTXN4hthFWX_",
        "colab_type": "code",
        "colab": {}
      },
      "source": [
        "Y_train = data_train[['Outcome']].to_numpy()\n",
        "X_train = data_train.drop(['Outcome'],axis=1).to_numpy()\n",
        "\n",
        "\n",
        "Y_test = data_test[['Outcome']].to_numpy()\n",
        "X_test = data_test.drop(['Outcome'],axis=1).to_numpy()\n",
        "X_test_active = data_active_test.drop(['Outcome'],axis=1).to_numpy()\n",
        "data_inactive_test = data_test[data_test['Outcome']==0]\n",
        "data_active_train = data_train[data_train['Outcome']==1]\n",
        "data_inactive_train = data_train[data_train['Outcome']==0]\n",
        "X_test_inactive = data_inactive_test.drop(['Outcome'],axis=1).to_numpy()\n",
        "X_train_active = data_active_train.drop(['Outcome'],axis=1).to_numpy()\n",
        "X_train_inactive = data_inactive_train.drop(['Outcome'],axis=1).to_numpy()"
      ],
      "execution_count": 0,
      "outputs": []
    },
    {
      "cell_type": "code",
      "metadata": {
        "id": "L01R0JltF03j",
        "colab_type": "code",
        "colab": {
          "base_uri": "https://localhost:8080/",
          "height": 153
        },
        "outputId": "fd106348-f351-4b4c-e3ef-4e928f2a3460"
      },
      "source": [
        "X_train.shape , Y_train.shape , X_train_active.shape , X_train_inactive.shape , Y_test.shape , X_test.shape , X_test_active.shape , X_test_inactive.shape"
      ],
      "execution_count": 40,
      "outputs": [
        {
          "output_type": "execute_result",
          "data": {
            "text/plain": [
              "((538343, 179),\n",
              " (538343, 1),\n",
              " (248855, 179),\n",
              " (289488, 179),\n",
              " (1050, 1),\n",
              " (1050, 179),\n",
              " (50, 179),\n",
              " (1000, 179))"
            ]
          },
          "metadata": {
            "tags": []
          },
          "execution_count": 40
        }
      ]
    },
    {
      "cell_type": "code",
      "metadata": {
        "id": "6gtNDbx-GCG3",
        "colab_type": "code",
        "colab": {}
      },
      "source": [
        "pca = PCA(n_components=128)\n",
        "pca.fit(X_train)\n",
        "\n",
        "X_train = pca.transform(X_train)\n",
        "X_test = pca.transform(X_test)\n",
        "X_test_active = pca.transform(X_test_active)\n",
        "X_test_inactive = pca.transform(X_test_inactive)\n",
        "X_train_active = pca.transform(X_train_active)\n",
        "X_train_inactive = pca.transform(X_train_inactive)\n"
      ],
      "execution_count": 0,
      "outputs": []
    },
    {
      "cell_type": "code",
      "metadata": {
        "id": "K1XHUO3pJsVH",
        "colab_type": "code",
        "colab": {}
      },
      "source": [
        "#Hyperparameters\n",
        "activation = 'relu'\n",
        "optimizer = 'Adam'\n",
        "batch_size = 256\n",
        "device = torch.device(\"cuda\" if torch.cuda.is_available() else \"cpu\")\n",
        "log_directory = \"runs/logs1\"\n",
        "step = 0\n",
        "writer = SummaryWriter(log_directory)"
      ],
      "execution_count": 0,
      "outputs": []
    },
    {
      "cell_type": "code",
      "metadata": {
        "id": "QX5bjdj9Gwtr",
        "colab_type": "code",
        "colab": {}
      },
      "source": [
        "class Covid(nn.Module):\n",
        "  def __init__(self):\n",
        "    super(Covid, self).__init__()    \n",
        "                               \n",
        "    self.layer1 = nn.Sequential(nn.Linear(128,512),nn.ReLU(True))\n",
        "    self.layer1_1 = nn.Sequential(nn.Linear(512,1024),nn.ReLU(True))\n",
        "    self.layer2 = nn.Sequential(nn.Linear(1024,512),nn.ReLU(True))\n",
        "    self.layer3 = nn.Sequential(nn.Linear(512,256),nn.ReLU(True))\n",
        "    self.layer4 = nn.Sequential(nn.Linear(256,100),nn.ReLU(True))\n",
        "    self.layer5 = nn.Sequential(nn.Linear(100,1),nn.Sigmoid())\n",
        "    self.dropout = nn.Dropout(p=0.4)\n",
        "\n",
        "  def forward(self,input):\n",
        "\n",
        "    x = (self.layer1(input))\n",
        "    x = self.dropout(self.layer1_1(x))\n",
        "    x = self.dropout(self.layer2(x))\n",
        "    x = self.dropout(self.layer3(x))\n",
        "    x = self.dropout(self.layer4(x))\n",
        "    x = self.layer5(x)\n",
        "\n",
        "    return x\n",
        "\n",
        "\n",
        "class Covidcep(nn.Module):\n",
        "  def __init__(self):\n",
        "    super(Covidcep, self).__init__()\n",
        "    \n",
        "           \n",
        "    self.layer1_1 =  nn.Sequential(nn.Conv1d(in_channels=1, out_channels=4, kernel_size=3,padding=1,stride=2),nn.ReLU(True))\n",
        "    self.layer1_2 =  nn.Sequential(nn.Conv1d(1, 4, kernel_size=5,padding=2,stride=2),nn.ReLU(True))\n",
        "    self.layer1_3 = nn.Sequential(nn.Conv1d(1, 4, kernel_size=1,padding=0,stride=1),nn.ReLU(True),nn.MaxPool1d(3,2,1))\n",
        "    self.avgpool1 = nn.AvgPool1d(kernel_size=3,padding=1,stride=1)\n",
        "    \n",
        "    self.layer2_1 = m = nn.Sequential(nn.Conv1d(in_channels=12, out_channels=4, kernel_size=3,padding=1,stride=2),nn.ReLU(True))\n",
        "    self.layer2_2 = m = nn.Sequential(nn.Conv1d(12, 4, kernel_size=5,padding=2,stride=2),nn.ReLU(True))\n",
        "    self.layer2_3 = nn.Sequential(nn.Conv1d(12, 4, kernel_size=1,padding=0,stride=1),nn.ReLU(True),nn.MaxPool1d(3,2,1))\n",
        "    self.avgpool2 = nn.AvgPool1d(kernel_size=3,padding=1,stride=1)\n",
        "         \n",
        "    self.layer3_1 = m = nn.Sequential(nn.Conv1d(in_channels=12, out_channels=3, kernel_size=3,padding=1,stride=2),nn.ReLU(True))\n",
        "    self.layer3_2 = m = nn.Sequential(nn.Conv1d(12, 3, kernel_size=5,padding=2,stride=2),nn.ReLU(True))\n",
        "    self.layer3_3 = nn.Sequential(nn.Conv1d(12, 3, kernel_size=1,padding=0,stride=1),nn.ReLU(True),nn.MaxPool1d(3,2,1))\n",
        "    self.avgpool3 = nn.AvgPool1d(kernel_size=3,padding=1,stride=1)   \n",
        "    \n",
        "    self.layer4 = nn.Sequential(nn.Linear(144,10),nn.ReLU(True))\n",
        "    self.layer5 = nn.Sequential(nn.Linear(10,1),nn.Sigmoid())\n",
        "\n",
        "  def forward(self,x):\n",
        "    \n",
        "    x = torch.unsqueeze(x,1).float()\n",
        "    x = self.avgpool1(torch.cat((self.layer1_1(x), self.layer1_2(x) ,self.layer1_3(x)), 1) )\n",
        "    x = self.avgpool2(torch.cat((self.layer2_1(x), self.layer2_2(x),self.layer2_3(x)), 1) )\n",
        "    x = self.avgpool3(torch.cat((self.layer3_1(x), self.layer3_2(x),self.layer3_3(x)), 1) )\n",
        "    x = x.view(x.size(0),-1).float()\n",
        "    x = self.layer4(x)\n",
        "    x = self.layer5(x)   \n",
        "    \n",
        "    return x\n"
      ],
      "execution_count": 0,
      "outputs": []
    },
    {
      "cell_type": "code",
      "metadata": {
        "id": "CjsJiwk5JOF6",
        "colab_type": "code",
        "colab": {}
      },
      "source": [
        "\n",
        "class FocalLoss(nn.Module):\n",
        "    def __init__(self, alpha=1, gamma=3, weight=5 , logits=False, reduce=False ):\n",
        "        super(FocalLoss, self).__init__()\n",
        "        self.alpha = alpha\n",
        "        self.gamma = gamma\n",
        "        self.logits = logits\n",
        "        self.weight = weight\n",
        "        self.reduce = reduce\n",
        "\n",
        "    def forward(self, inputs, targets):\n",
        "        if self.logits:\n",
        "            BCE_loss = F.binary_cross_entropy_with_logits(inputs, targets, reduce=False)\n",
        "        else:\n",
        "            BCE_loss = F.binary_cross_entropy(inputs, targets, reduce=False , weight=targets*self.weight + 1)\n",
        "        pt = torch.exp(-BCE_loss)\n",
        "        F_loss = self.alpha * (1-pt)**self.gamma * BCE_loss\n",
        "\n",
        "        if self.reduce:\n",
        "            return torch.mean(F_loss)\n",
        "        else:\n",
        "            return torch.sum(F_loss)\n",
        "\n",
        "def train(epoch,train_loader,writer):\n",
        "  model.train()\n",
        "  for p in model.parameters():\n",
        "    p.requires_grad = True\n",
        "\n",
        "  train_loss = 0.0\n",
        "  running_loss = 0.0\n",
        "  running_total = 0.0\n",
        "  running_accuracy = 0.0\n",
        "  total = 0.0\n",
        "  accuracy = 0.0\n",
        "  step = 1\n",
        "  print(\"==================================Train==================================\")\n",
        "  for i,data in enumerate(train_loader):\n",
        "    \n",
        "\n",
        "    model.zero_grad()\n",
        "    X_real,Y_real = data\n",
        "    X_real = X_real.to(device).float()\n",
        "    Y_real = Y_real.to(device).float()\n",
        "    b_size = X_real.size(0)\n",
        "    output = model(X_real.float()).float()\n",
        "    \n",
        "    loss = criterion(output.float(), Y_real.float())\n",
        "    loss.backward()\n",
        "    train_loss += loss.item()\n",
        "    running_loss += loss.item()\n",
        "    total += b_size\n",
        "    running_total += b_size\n",
        "\n",
        "\n",
        "    #accuracy\n",
        "    acc = ((Y_real == 1)==((output) > 0.5))\n",
        "    acc = acc.sum().item()\n",
        "    accuracy += acc\n",
        "    running_accuracy += acc\n",
        "    optimizer.step()\n",
        "\n",
        "    if i% 100 == 0 and i!=0:\n",
        "      Tloss,_,_ = test(epoch,test_loader,p = False)\n",
        "      writer.add_scalar('Training_Loss ',\n",
        "                            running_loss/100,\n",
        "                            step )\n",
        "      \n",
        "      writer.add_scalar('Test_Loss ',\n",
        "                            running_accuracy/running_total,\n",
        "                            step )\n",
        "      running_loss = 0.0\n",
        "      running_total = 0.0\n",
        "      running_accuracy = 0.0\n",
        "      step+=1\n",
        "\n",
        "    if i% 500 == 0 and i!=0:\n",
        "      print('[%d/%d][%d/%d]\\tLoss_train: %.4f\\tTrain_Accuracy: %.4f'\n",
        "                  % (epoch, num_epochs, i, len(train_loader),\n",
        "                     loss.item(), acc/b_size))\n",
        "  output = (model(torch.from_numpy(X_train_active).to(device).float())) > 0.5\n",
        "  print(\"Train Active accuracy\" , output.sum().item()/ output.size(0),\"<---------------\")\n",
        "  output = (model(torch.from_numpy(X_train_inactive).to(device).float())) < 0.5\n",
        "  print(\"Train Inactive accuracy\" , output.sum().item()/ output.size(0))\n",
        "  print(\"=========================================================================\")\n",
        "  return train_loss , accuracy/total ,total\n",
        "\n",
        "\n",
        "def test(epoch,test_loader,p = True):\n",
        "    model.eval()\n",
        "    test_loss = 0.0\n",
        "    total = 0.0\n",
        "    accuracy = 0.0\n",
        "    if p:\n",
        "      print(\"==================================Test==================================\")\n",
        "\n",
        "    for i,data in enumerate(test_loader):\n",
        "      X_real,Y_real = data\n",
        "      X_real = X_real.to(device)\n",
        "      Y_real = Y_real.to(device)\n",
        "      b_size = X_real.size(0)\n",
        "      output = model(X_real.float()).float()\n",
        "      loss = criterion(output.float(), Y_real.float())\n",
        "      test_loss += loss.item()\n",
        "      total += b_size\n",
        "\n",
        "      acc = ((Y_real == 1)==((output) > 0.5))\n",
        "      acc = acc.sum().item() / b_size\n",
        "      accuracy += acc\n",
        "\n",
        "      if i% 3 == 0 and i!=0 and p:\n",
        "        print('[%d/%d][%d/%d]\\tLoss_test: %.4f\\tTest_Accuracy: %.4f'\n",
        "                  % (epoch, num_epochs, i, len(test_loader),\n",
        "                     loss.item(), acc))\n",
        "      \n",
        "\n",
        "    output = (model(torch.from_numpy(X_test_active).to(device).float())) > 0.5\n",
        "    if p:\n",
        "      print(\"Test Active accuracy\" , output.sum().item()/ output.size(0),\"<---------------\")\n",
        "    output = (model(torch.from_numpy(X_test_inactive).to(device).float())) < 0.5\n",
        "    if p:\n",
        "      print(\"Test Inactive accuracy\" , output.sum().item()/ output.size(0))\n",
        "      print(\"=========================================================================\")\n",
        "    return test_loss,accuracy,total\n",
        "\n",
        "\n",
        "def compute_roc(y_true, y_pred, plot=True):\n",
        "    \"\"\"\n",
        "    TODO\n",
        "    :param y_true: ground truth\n",
        "    :param y_pred: predictions\n",
        "    :param plot:\n",
        "    :return:\n",
        "    \"\"\"\n",
        "    fpr, tpr, _ = metrics.roc_curve(y_true, y_pred)\n",
        "    auc_score = metrics.auc(fpr, tpr)\n",
        "    if plot:\n",
        "        plt.figure(figsize=(7, 6))\n",
        "        plt.plot(fpr, tpr, color='blue',\n",
        "                 label='ROC (AUC = %0.4f)' % auc_score)\n",
        "        plt.legend(loc='lower right')\n",
        "        plt.title(\"ROC Curve\")\n",
        "        plt.xlabel(\"FPR\")\n",
        "        plt.ylabel(\"TPR\")\n",
        "        plt.show()\n",
        "\n",
        "    return fpr, tpr, auc_score \n",
        "\n",
        "def drug_checker(arr,conf):\n",
        "  ls = [1082,928,115,1260,794,573,1133,383,1112,1919,1918,1750]\n",
        "  for e in  ls:\n",
        "    if e in arr:\n",
        "      print( \"Drug number \", e , \" score \", conf[e])\n",
        "\n",
        "def drug_checker_all(arr,conf):\n",
        "  ls = [1082,928,115,1260,794,573,1133,383,1112,1919,1918,1750]\n",
        "  for e in  ls:\n",
        "    \n",
        "      print( \"Drug number \", e , \" score \", conf[e])\n",
        "\n",
        "                  \n",
        "\n",
        "\n",
        "\n",
        "\n"
      ],
      "execution_count": 0,
      "outputs": []
    },
    {
      "cell_type": "code",
      "metadata": {
        "id": "WBaHNvg1TN-e",
        "colab_type": "code",
        "colab": {}
      },
      "source": [
        "train_dataset = torch.utils.data.TensorDataset(torch.from_numpy(X_train).float(), torch.from_numpy(Y_train).float())\n",
        "train_loader = torch.utils.data.DataLoader(train_dataset, batch_size=batch_size, shuffle=False)\n",
        "\n",
        "test_dataset = torch.utils.data.TensorDataset(torch.from_numpy(X_test).float(), torch.from_numpy(Y_test).float())\n",
        "test_loader = torch.utils.data.DataLoader(test_dataset, batch_size=batch_size, shuffle=False)"
      ],
      "execution_count": 0,
      "outputs": []
    },
    {
      "cell_type": "code",
      "metadata": {
        "id": "0gOTDg3ZM4pz",
        "colab_type": "code",
        "colab": {
          "base_uri": "https://localhost:8080/",
          "height": 476
        },
        "outputId": "fb6b2954-2164-4d75-9e43-bb1c1450a590"
      },
      "source": [
        "num_epochs = 2\n",
        "torch.manual_seed(seed)\n",
        "torch.set_default_dtype(torch.float32)\n",
        "model = Covid()\n",
        "model = model.to(device).float()\n",
        "criterion = nn.BCELoss()\n",
        "optimizer = optim.Adam(model.parameters(),lr = 5e-5)\n",
        "\n",
        "for epoch in range(0, num_epochs ):\n",
        "    a, _,c = train(epoch,train_loader,writer)\n",
        "    i,_,e = test(epoch,test_loader)\n",
        "    \n",
        "model.eval()\n",
        "X_drug = df_drug.drop(['Outcome'],axis=1).to_numpy()\n",
        "X_drug = pca.transform(X_drug)\n",
        "\n",
        "output = (model(torch.from_numpy(X_drug).to(device).float())) > 0.5\n",
        "print( \"drugs\",output.sum().item())"
      ],
      "execution_count": 79,
      "outputs": [
        {
          "output_type": "stream",
          "text": [
            "==================================Train==================================\n",
            "[0/2][500/2103]\tLoss_train: 0.5824\tTrain_Accuracy: 0.7070\n",
            "[0/2][1000/2103]\tLoss_train: 0.4986\tTrain_Accuracy: 0.7383\n",
            "[0/2][1500/2103]\tLoss_train: 0.4069\tTrain_Accuracy: 0.7891\n",
            "[0/2][2000/2103]\tLoss_train: 0.3463\tTrain_Accuracy: 0.8242\n",
            "Train Active accuracy 0.9690140845070423 <---------------\n",
            "Train Inactive accuracy 0.793915464544299\n",
            "=========================================================================\n",
            "==================================Test==================================\n",
            "[0/2][3/5]\tLoss_test: 0.4559\tTest_Accuracy: 0.8086\n",
            "Test Active accuracy 0.64 <---------------\n",
            "Test Inactive accuracy 0.774\n",
            "=========================================================================\n",
            "==================================Train==================================\n",
            "[1/2][500/2103]\tLoss_train: 0.2631\tTrain_Accuracy: 0.9141\n",
            "[1/2][1000/2103]\tLoss_train: 0.1454\tTrain_Accuracy: 0.9648\n",
            "[1/2][1500/2103]\tLoss_train: 0.2003\tTrain_Accuracy: 0.8984\n",
            "[1/2][2000/2103]\tLoss_train: 0.1342\tTrain_Accuracy: 0.9492\n",
            "Train Active accuracy 0.9943661971830986 <---------------\n",
            "Train Inactive accuracy 0.9356933620737302\n",
            "=========================================================================\n",
            "==================================Test==================================\n",
            "[1/2][3/5]\tLoss_test: 0.1758\tTest_Accuracy: 0.9453\n",
            "Test Active accuracy 0.32 <---------------\n",
            "Test Inactive accuracy 0.939\n",
            "=========================================================================\n",
            "drugs 154\n"
          ],
          "name": "stdout"
        }
      ]
    },
    {
      "cell_type": "code",
      "metadata": {
        "id": "bWWDilc2TBOB",
        "colab_type": "code",
        "colab": {
          "base_uri": "https://localhost:8080/",
          "height": 404
        },
        "outputId": "74ab55df-2754-4a92-f992-440df7208a9a"
      },
      "source": [
        "_,_,_=compute_roc(Y_test,model(torch.from_numpy(X_test).to(device).float()).cpu().detach().numpy())"
      ],
      "execution_count": 80,
      "outputs": [
        {
          "output_type": "display_data",
          "data": {
            "image/png": "[encoded data removed]",
            "text/plain": [
              "<Figure size 504x432 with 1 Axes>"
            ]
          },
          "metadata": {
            "tags": [],
            "needs_background": "light"
          }
        }
      ]
    },
    {
      "cell_type": "code",
      "metadata": {
        "id": "NY9yKAwATlUY",
        "colab_type": "code",
        "colab": {
          "base_uri": "https://localhost:8080/",
          "height": 102
        },
        "outputId": "440d084b-912a-433e-96c2-cbc8eb43c5f4"
      },
      "source": [
        "ans = output.cpu().detach().numpy()\n",
        "result = np.where(ans == True)\n",
        "drug_df = pd.read_csv('Drug1.csv')\n",
        "list_df = drug_df[['DRUGBANK_ID']]\n",
        "list_df = list_df.iloc[result[0].tolist()]\n",
        "conf = model(torch.from_numpy(X_drug).to(device).float()).cpu().detach().numpy()\n",
        "drug_checker(result[0],conf)"
      ],
      "execution_count": 81,
      "outputs": [
        {
          "output_type": "stream",
          "text": [
            "Drug number  928  score  [0.9925391]\n",
            "Drug number  1260  score  [0.6379057]\n",
            "Drug number  383  score  [0.9997899]\n",
            "Drug number  1918  score  [0.98022467]\n",
            "Drug number  1750  score  [0.9996809]\n"
          ],
          "name": "stdout"
        }
      ]
    },
    {
      "cell_type": "code",
      "metadata": {
        "id": "PysxTG2hWB15",
        "colab_type": "code",
        "colab": {
          "base_uri": "https://localhost:8080/",
          "height": 510
        },
        "outputId": "861c2856-e9c0-4052-8a97-08497429591f"
      },
      "source": [
        "num_epochs = 2\n",
        "torch.manual_seed(seed)\n",
        "torch.set_default_dtype(torch.float32)\n",
        "model = Covid()\n",
        "model = model.to(device).float()\n",
        "criterion = FocalLoss()\n",
        "optimizer = optim.Adam(model.parameters(),lr = 5e-5)\n",
        "\n",
        "for epoch in range(0, num_epochs ):\n",
        "    a, _,c = train(epoch,train_loader,writer)\n",
        "    i,_,e = test(epoch,test_loader)\n",
        "    \n",
        "model.eval()\n",
        "X_drug = df_drug.drop(['Outcome'],axis=1).to_numpy()\n",
        "X_drug = pca.transform(X_drug)\n",
        "\n",
        "output = (model(torch.from_numpy(X_drug).to(device).float())) > 0.5\n",
        "print( \"drugs\",output.sum().item())"
      ],
      "execution_count": 82,
      "outputs": [
        {
          "output_type": "stream",
          "text": [
            "==================================Train==================================\n"
          ],
          "name": "stdout"
        },
        {
          "output_type": "stream",
          "text": [
            "/usr/local/lib/python3.6/dist-packages/torch/nn/_reduction.py:43: UserWarning: size_average and reduce args will be deprecated, please use reduction='none' instead.\n",
            "  warnings.warn(warning.format(ret))\n"
          ],
          "name": "stderr"
        },
        {
          "output_type": "stream",
          "text": [
            "[0/2][500/2103]\tLoss_train: 137.4228\tTrain_Accuracy: 0.5273\n",
            "[0/2][1000/2103]\tLoss_train: 120.8692\tTrain_Accuracy: 0.5039\n",
            "[0/2][1500/2103]\tLoss_train: 97.6769\tTrain_Accuracy: 0.6406\n",
            "[0/2][2000/2103]\tLoss_train: 82.4939\tTrain_Accuracy: 0.7578\n",
            "Train Active accuracy 1.0 <---------------\n",
            "Train Inactive accuracy 0.5947534958271155\n",
            "=========================================================================\n",
            "==================================Test==================================\n",
            "[0/2][3/5]\tLoss_test: 95.8580\tTest_Accuracy: 0.5781\n",
            "Test Active accuracy 0.74 <---------------\n",
            "Test Inactive accuracy 0.577\n",
            "=========================================================================\n",
            "==================================Train==================================\n",
            "[1/2][500/2103]\tLoss_train: 48.4526\tTrain_Accuracy: 0.8672\n",
            "[1/2][1000/2103]\tLoss_train: 24.8515\tTrain_Accuracy: 0.9102\n",
            "[1/2][1500/2103]\tLoss_train: 40.1600\tTrain_Accuracy: 0.9102\n",
            "[1/2][2000/2103]\tLoss_train: 28.1296\tTrain_Accuracy: 0.8828\n",
            "Train Active accuracy 1.0 <---------------\n",
            "Train Inactive accuracy 0.8419727242580003\n",
            "=========================================================================\n",
            "==================================Test==================================\n",
            "[1/2][3/5]\tLoss_test: 68.9209\tTest_Accuracy: 0.8633\n",
            "Test Active accuracy 0.5 <---------------\n",
            "Test Inactive accuracy 0.843\n",
            "=========================================================================\n",
            "drugs 312\n"
          ],
          "name": "stdout"
        }
      ]
    },
    {
      "cell_type": "code",
      "metadata": {
        "id": "IV7RcaJ3WkNN",
        "colab_type": "code",
        "colab": {
          "base_uri": "https://localhost:8080/",
          "height": 404
        },
        "outputId": "5bb971d8-eb7a-4b3c-c65c-b64239ebe5a1"
      },
      "source": [
        "_,_,_=compute_roc(Y_test,model(torch.from_numpy(X_test).to(device).float()).cpu().detach().numpy())"
      ],
      "execution_count": 83,
      "outputs": [
        {
          "output_type": "display_data",
          "data": {
            "image/png": "[encoded data removed]",
            "text/plain": [
              "<Figure size 504x432 with 1 Axes>"
            ]
          },
          "metadata": {
            "tags": [],
            "needs_background": "light"
          }
        }
      ]
    },
    {
      "cell_type": "code",
      "metadata": {
        "id": "qHC1gdPsW15N",
        "colab_type": "code",
        "colab": {
          "base_uri": "https://localhost:8080/",
          "height": 119
        },
        "outputId": "c9ae86a9-3d52-44f4-dcc6-e489f12b7857"
      },
      "source": [
        "ans = output.cpu().detach().numpy()\n",
        "result = np.where(ans == True)\n",
        "drug_df = pd.read_csv('Drug1.csv')\n",
        "list_df = drug_df[['DRUGBANK_ID']]\n",
        "list_df = list_df.iloc[result[0].tolist()]\n",
        "conf = model(torch.from_numpy(X_drug).to(device).float()).cpu().detach().numpy()\n",
        "drug_checker(result[0],conf)"
      ],
      "execution_count": 84,
      "outputs": [
        {
          "output_type": "stream",
          "text": [
            "Drug number  928  score  [0.9930554]\n",
            "Drug number  1260  score  [0.8899599]\n",
            "Drug number  383  score  [0.9799197]\n",
            "Drug number  1112  score  [0.6329389]\n",
            "Drug number  1918  score  [0.9569589]\n",
            "Drug number  1750  score  [0.9643083]\n"
          ],
          "name": "stdout"
        }
      ]
    },
    {
      "cell_type": "code",
      "metadata": {
        "id": "GX43qmJIW-c3",
        "colab_type": "code",
        "colab": {
          "base_uri": "https://localhost:8080/",
          "height": 918
        },
        "outputId": "d06065a1-a89c-4672-a69f-2e65b1074c6d"
      },
      "source": [
        "num_epochs = 4\n",
        "torch.manual_seed(seed)\n",
        "torch.set_default_dtype(torch.float32)\n",
        "model = Covidcep()\n",
        "model = model.to(device).float()\n",
        "criterion = nn.BCELoss()\n",
        "optimizer = optim.Adam(model.parameters(),lr = 5e-5)\n",
        "\n",
        "for epoch in range(0, num_epochs ):\n",
        "    a, _,c = train(epoch,train_loader,writer)\n",
        "    i,_,e = test(epoch,test_loader)\n",
        "    \n",
        "model.eval()\n",
        "X_drug = df_drug.drop(['Outcome'],axis=1).to_numpy()\n",
        "X_drug = pca.transform(X_drug)\n",
        "\n",
        "output = (model(torch.from_numpy(X_drug).to(device).float())) > 0.5\n",
        "print( \"drugs\",output.sum().item())"
      ],
      "execution_count": 85,
      "outputs": [
        {
          "output_type": "stream",
          "text": [
            "==================================Train==================================\n",
            "[0/4][500/2103]\tLoss_train: 0.6717\tTrain_Accuracy: 0.6055\n",
            "[0/4][1000/2103]\tLoss_train: 0.6794\tTrain_Accuracy: 0.5742\n",
            "[0/4][1500/2103]\tLoss_train: 0.6791\tTrain_Accuracy: 0.5625\n",
            "[0/4][2000/2103]\tLoss_train: 0.6560\tTrain_Accuracy: 0.6289\n",
            "Train Active accuracy 0.36056338028169016 <---------------\n",
            "Train Inactive accuracy 0.811211518266733\n",
            "=========================================================================\n",
            "==================================Test==================================\n",
            "[0/4][3/5]\tLoss_test: 0.5985\tTest_Accuracy: 0.7656\n",
            "Test Active accuracy 0.5 <---------------\n",
            "Test Inactive accuracy 0.784\n",
            "=========================================================================\n",
            "==================================Train==================================\n",
            "[1/4][500/2103]\tLoss_train: 0.6501\tTrain_Accuracy: 0.5938\n",
            "[1/4][1000/2103]\tLoss_train: 0.6783\tTrain_Accuracy: 0.5742\n",
            "[1/4][1500/2103]\tLoss_train: 0.6671\tTrain_Accuracy: 0.5703\n",
            "[1/4][2000/2103]\tLoss_train: 0.6555\tTrain_Accuracy: 0.6250\n",
            "Train Active accuracy 0.36901408450704226 <---------------\n",
            "Train Inactive accuracy 0.821885535842591\n",
            "=========================================================================\n",
            "==================================Test==================================\n",
            "[1/4][3/5]\tLoss_test: 0.5913\tTest_Accuracy: 0.7734\n",
            "Test Active accuracy 0.5 <---------------\n",
            "Test Inactive accuracy 0.792\n",
            "=========================================================================\n",
            "==================================Train==================================\n",
            "[2/4][500/2103]\tLoss_train: 0.6388\tTrain_Accuracy: 0.6133\n",
            "[2/4][1000/2103]\tLoss_train: 0.6689\tTrain_Accuracy: 0.5898\n",
            "[2/4][1500/2103]\tLoss_train: 0.6559\tTrain_Accuracy: 0.6016\n",
            "[2/4][2000/2103]\tLoss_train: 0.6505\tTrain_Accuracy: 0.6445\n",
            "Train Active accuracy 0.4450704225352113 <---------------\n",
            "Train Inactive accuracy 0.7957946443375892\n",
            "=========================================================================\n",
            "==================================Test==================================\n",
            "[2/4][3/5]\tLoss_test: 0.5834\tTest_Accuracy: 0.7695\n",
            "Test Active accuracy 0.58 <---------------\n",
            "Test Inactive accuracy 0.771\n",
            "=========================================================================\n",
            "==================================Train==================================\n",
            "[3/4][500/2103]\tLoss_train: 0.6229\tTrain_Accuracy: 0.6523\n",
            "[3/4][1000/2103]\tLoss_train: 0.6529\tTrain_Accuracy: 0.6016\n",
            "[3/4][1500/2103]\tLoss_train: 0.6416\tTrain_Accuracy: 0.6250\n",
            "[3/4][2000/2103]\tLoss_train: 0.6431\tTrain_Accuracy: 0.6367\n",
            "Train Active accuracy 0.4788732394366197 <---------------\n",
            "Train Inactive accuracy 0.7649401702315812\n",
            "=========================================================================\n",
            "==================================Test==================================\n",
            "[3/4][3/5]\tLoss_test: 0.5758\tTest_Accuracy: 0.7539\n",
            "Test Active accuracy 0.52 <---------------\n",
            "Test Inactive accuracy 0.743\n",
            "=========================================================================\n",
            "drugs 425\n"
          ],
          "name": "stdout"
        }
      ]
    },
    {
      "cell_type": "code",
      "metadata": {
        "id": "9HZY75kuYx3x",
        "colab_type": "code",
        "colab": {
          "base_uri": "https://localhost:8080/",
          "height": 404
        },
        "outputId": "eb31f2a7-c26d-453d-f701-20c9dfac8d34"
      },
      "source": [
        "_,_,_=compute_roc(Y_test,model(torch.from_numpy(X_test).to(device).float()).cpu().detach().numpy())"
      ],
      "execution_count": 86,
      "outputs": [
        {
          "output_type": "display_data",
          "data": {
            "image/png": "[encoded data removed]",
            "text/plain": [
              "<Figure size 504x432 with 1 Axes>"
            ]
          },
          "metadata": {
            "tags": [],
            "needs_background": "light"
          }
        }
      ]
    },
    {
      "cell_type": "code",
      "metadata": {
        "id": "21YFelpAY2bm",
        "colab_type": "code",
        "colab": {
          "base_uri": "https://localhost:8080/",
          "height": 204
        },
        "outputId": "d393598e-b9c7-4181-f89b-079676566604"
      },
      "source": [
        "ans = output.cpu().detach().numpy()\n",
        "result = np.where(ans == True)\n",
        "drug_df = pd.read_csv('Drug1.csv')\n",
        "list_df = drug_df[['DRUGBANK_ID']]\n",
        "list_df = list_df.iloc[result[0].tolist()]\n",
        "conf = model(torch.from_numpy(X_drug).to(device).float()).cpu().detach().numpy()\n",
        "drug_checker(result[0],conf)"
      ],
      "execution_count": 87,
      "outputs": [
        {
          "output_type": "stream",
          "text": [
            "Drug number  1082  score  [0.82770705]\n",
            "Drug number  928  score  [0.928608]\n",
            "Drug number  115  score  [0.60784936]\n",
            "Drug number  1260  score  [0.6849942]\n",
            "Drug number  573  score  [0.5688571]\n",
            "Drug number  1133  score  [0.5084858]\n",
            "Drug number  383  score  [0.9398771]\n",
            "Drug number  1112  score  [0.6368335]\n",
            "Drug number  1919  score  [0.9658662]\n",
            "Drug number  1918  score  [0.9766018]\n",
            "Drug number  1750  score  [0.96753913]\n"
          ],
          "name": "stdout"
        }
      ]
    },
    {
      "cell_type": "code",
      "metadata": {
        "id": "D7NhSTbtY5TT",
        "colab_type": "code",
        "colab": {
          "base_uri": "https://localhost:8080/",
          "height": 952
        },
        "outputId": "e028f7eb-eec1-4082-ccb4-8a2a02875599"
      },
      "source": [
        "num_epochs = 4\n",
        "torch.manual_seed(seed)\n",
        "torch.set_default_dtype(torch.float32)\n",
        "model = Covidcep()\n",
        "model = model.to(device).float()\n",
        "criterion = FocalLoss(weight = 0)\n",
        "optimizer = optim.Adam(model.parameters(),lr = 5e-5)\n",
        "\n",
        "for epoch in range(0, num_epochs ):\n",
        "    a, _,c = train(epoch,train_loader,writer)\n",
        "    i,_,e = test(epoch,test_loader)\n",
        "    \n",
        "model.eval()\n",
        "X_drug = df_drug.drop(['Outcome'],axis=1).to_numpy()\n",
        "X_drug = pca.transform(X_drug)\n",
        "\n",
        "output = (model(torch.from_numpy(X_drug).to(device).float())) > 0.5\n",
        "print( \"drugs\",output.sum().item())"
      ],
      "execution_count": 91,
      "outputs": [
        {
          "output_type": "stream",
          "text": [
            "==================================Train==================================\n"
          ],
          "name": "stdout"
        },
        {
          "output_type": "stream",
          "text": [
            "/usr/local/lib/python3.6/dist-packages/torch/nn/_reduction.py:43: UserWarning: size_average and reduce args will be deprecated, please use reduction='none' instead.\n",
            "  warnings.warn(warning.format(ret))\n"
          ],
          "name": "stderr"
        },
        {
          "output_type": "stream",
          "text": [
            "[0/4][500/2103]\tLoss_train: 21.2810\tTrain_Accuracy: 0.6055\n",
            "[0/4][1000/2103]\tLoss_train: 21.7546\tTrain_Accuracy: 0.5742\n",
            "[0/4][1500/2103]\tLoss_train: 21.6056\tTrain_Accuracy: 0.5703\n",
            "[0/4][2000/2103]\tLoss_train: 21.1613\tTrain_Accuracy: 0.6172\n",
            "Train Active accuracy 0.36901408450704226 <---------------\n",
            "Train Inactive accuracy 0.8140026529597082\n",
            "=========================================================================\n",
            "==================================Test==================================\n",
            "[0/4][3/5]\tLoss_test: 19.6637\tTest_Accuracy: 0.7695\n",
            "Test Active accuracy 0.48 <---------------\n",
            "Test Inactive accuracy 0.785\n",
            "=========================================================================\n",
            "==================================Train==================================\n",
            "[1/4][500/2103]\tLoss_train: 20.5945\tTrain_Accuracy: 0.6016\n",
            "[1/4][1000/2103]\tLoss_train: 21.3328\tTrain_Accuracy: 0.5938\n",
            "[1/4][1500/2103]\tLoss_train: 20.9442\tTrain_Accuracy: 0.6094\n",
            "[1/4][2000/2103]\tLoss_train: 20.7451\tTrain_Accuracy: 0.6367\n",
            "Train Active accuracy 0.4732394366197183 <---------------\n",
            "Train Inactive accuracy 0.7524526059802134\n",
            "=========================================================================\n",
            "==================================Test==================================\n",
            "[1/4][3/5]\tLoss_test: 19.2714\tTest_Accuracy: 0.7109\n",
            "Test Active accuracy 0.54 <---------------\n",
            "Test Inactive accuracy 0.717\n",
            "=========================================================================\n",
            "==================================Train==================================\n",
            "[2/4][500/2103]\tLoss_train: 19.8895\tTrain_Accuracy: 0.6445\n",
            "[2/4][1000/2103]\tLoss_train: 20.8000\tTrain_Accuracy: 0.6172\n",
            "[2/4][1500/2103]\tLoss_train: 20.6287\tTrain_Accuracy: 0.6094\n",
            "[2/4][2000/2103]\tLoss_train: 20.3956\tTrain_Accuracy: 0.6484\n",
            "Train Active accuracy 0.5352112676056338 <---------------\n",
            "Train Inactive accuracy 0.7223960924114299\n",
            "=========================================================================\n",
            "==================================Test==================================\n",
            "[2/4][3/5]\tLoss_test: 19.0142\tTest_Accuracy: 0.6797\n",
            "Test Active accuracy 0.64 <---------------\n",
            "Test Inactive accuracy 0.681\n",
            "=========================================================================\n",
            "==================================Train==================================\n",
            "[3/4][500/2103]\tLoss_train: 19.5752\tTrain_Accuracy: 0.6641\n",
            "[3/4][1000/2103]\tLoss_train: 20.5578\tTrain_Accuracy: 0.6250\n",
            "[3/4][1500/2103]\tLoss_train: 20.5600\tTrain_Accuracy: 0.6016\n",
            "[3/4][2000/2103]\tLoss_train: 20.0679\tTrain_Accuracy: 0.6719\n",
            "Train Active accuracy 0.5887323943661972 <---------------\n",
            "Train Inactive accuracy 0.7161782180953961\n",
            "=========================================================================\n",
            "==================================Test==================================\n",
            "[3/4][3/5]\tLoss_test: 18.7961\tTest_Accuracy: 0.6875\n",
            "Test Active accuracy 0.54 <---------------\n",
            "Test Inactive accuracy 0.677\n",
            "=========================================================================\n",
            "drugs 459\n"
          ],
          "name": "stdout"
        }
      ]
    },
    {
      "cell_type": "code",
      "metadata": {
        "id": "BeUQ04WlZCY1",
        "colab_type": "code",
        "colab": {
          "base_uri": "https://localhost:8080/",
          "height": 404
        },
        "outputId": "aea2b97c-2d04-48e9-dafe-f2d2f8cceebd"
      },
      "source": [
        "_,_,_=compute_roc(Y_test,model(torch.from_numpy(X_test).to(device).float()).cpu().detach().numpy())"
      ],
      "execution_count": 92,
      "outputs": [
        {
          "output_type": "display_data",
          "data": {
            "image/png": "[encoded data removed]",
            "text/plain": [
              "<Figure size 504x432 with 1 Axes>"
            ]
          },
          "metadata": {
            "tags": [],
            "needs_background": "light"
          }
        }
      ]
    },
    {
      "cell_type": "code",
      "metadata": {
        "id": "x_P8KBEJZERP",
        "colab_type": "code",
        "colab": {
          "base_uri": "https://localhost:8080/",
          "height": 187
        },
        "outputId": "163c4112-374b-4f27-cbfd-94557ed7b3b6"
      },
      "source": [
        "ans = output.cpu().detach().numpy()\n",
        "result = np.where(ans == True)\n",
        "drug_df = pd.read_csv('Drug1.csv')\n",
        "list_df = drug_df[['DRUGBANK_ID']]\n",
        "list_df = list_df.iloc[result[0].tolist()]\n",
        "conf = model(torch.from_numpy(X_drug).to(device).float()).cpu().detach().numpy()\n",
        "drug_checker(result[0],conf)"
      ],
      "execution_count": 93,
      "outputs": [
        {
          "output_type": "stream",
          "text": [
            "Drug number  1082  score  [0.5930077]\n",
            "Drug number  928  score  [0.66844696]\n",
            "Drug number  115  score  [0.527417]\n",
            "Drug number  1260  score  [0.5245006]\n",
            "Drug number  573  score  [0.5099093]\n",
            "Drug number  383  score  [0.68512547]\n",
            "Drug number  1112  score  [0.53639066]\n",
            "Drug number  1919  score  [0.688115]\n",
            "Drug number  1918  score  [0.7613102]\n",
            "Drug number  1750  score  [0.73007894]\n"
          ],
          "name": "stdout"
        }
      ]
    },
    {
      "cell_type": "code",
      "metadata": {
        "id": "C7BxHGnBZEsf",
        "colab_type": "code",
        "colab": {}
      },
      "source": [
        ""
      ],
      "execution_count": 0,
      "outputs": []
    }
  ]
}